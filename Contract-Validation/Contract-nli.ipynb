{
 "cells": [
  {
   "cell_type": "markdown",
   "metadata": {},
   "source": [
    "# Automating Contract Review With Transformer Models"
   ]
  },
  {
   "cell_type": "markdown",
   "metadata": {},
   "source": [
    "##### Task 1: Import the Libraries"
   ]
  },
  {
   "cell_type": "code",
   "execution_count": 1,
   "metadata": {},
   "outputs": [],
   "source": [
    "import json\n",
    "import os\n",
    "import torch\n",
    "import matplotlib.pyplot as plt \n",
    "import numpy as np \n",
    "import pandas as pd "
   ]
  },
  {
   "cell_type": "code",
   "execution_count": 2,
   "metadata": {},
   "outputs": [],
   "source": [
    "from transformers import AutoTokenizer, AutoModelForSequenceClassification, Trainer, TrainingArguments\n",
    "from sklearn.metrics import accuracy_score, precision_score, recall_score, f1_score\n"
   ]
  },
  {
   "cell_type": "markdown",
   "metadata": {},
   "source": [
    "##### Task 2: Generate Dataset Files"
   ]
  },
  {
   "cell_type": "code",
   "execution_count": 3,
   "metadata": {},
   "outputs": [],
   "source": [
    "# Write convert_json_to_csv() function.\n",
    "def convert_json_to_csv(json_file, csv_file, count):\n",
    "    text_list = []\n",
    "    hypothesis_list = []\n",
    "    labels_list = []\n",
    "    counter : int = 0\n",
    "    with open(json_file, 'r') as f:\n",
    "        data = json.load(f)\n",
    "    for document in data['documents']:\n",
    "        annotation_sets = document.get('annotation_sets',[])\n",
    "        for annotation_set in annotation_sets:\n",
    "            annotations = annotation_set.get('annotations')\n",
    "            for annotation in annotations:\n",
    "                if(count < counter):\n",
    "                    break\n",
    "                if isinstance(annotations[annotation], dict):\n",
    "                    if 'choice' in annotations[annotation]:\n",
    "                        labels_list.append(annotations[annotation]['choice'])\n",
    "                        text_list.append(document['text'])\n",
    "                        hypothesis_list.append(data['labels'][annotation]['hypothesis'])\n",
    "\n",
    "                        counter+=1\n",
    "                \n",
    "\n",
    "    if(len(text_list) == len(hypothesis_list) and len(hypothesis_list) == len(labels_list)):\n",
    "        df = pd.DataFrame({'text' : text_list, 'hypothesis': hypothesis_list, 'labels' : labels_list})\n",
    "        df.to_csv(csv_file)\n",
    "\n",
    "\n",
    "\n",
    "\n",
    "\n"
   ]
  },
  {
   "cell_type": "code",
   "execution_count": 4,
   "metadata": {},
   "outputs": [],
   "source": [
    "# Call convert_json_to_csv() function for training, validation and testing.\n",
    "directory_path = \"Contract-nli Dataset/\"\n",
    "train_file_name = \"train.csv\"\n",
    "val_file_name = \"val.csv\"\n",
    "test_file_name = \"test.csv\"\n",
    "\n",
    "convert_json_to_csv(json_file = directory_path+\"train.json\", csv_file = directory_path+train_file_name, count = 35)\n",
    "convert_json_to_csv(json_file = directory_path+\"valid.json\", csv_file = directory_path+val_file_name, count = 10)\n",
    "convert_json_to_csv(json_file = directory_path+\"test.json\", csv_file = directory_path+test_file_name, count = 5)"
   ]
  },
  {
   "cell_type": "markdown",
   "metadata": {},
   "source": [
    "##### Task 3: Calculate Dataset Statistics"
   ]
  },
  {
   "cell_type": "code",
   "execution_count": 5,
   "metadata": {},
   "outputs": [],
   "source": [
    "# 1. Load the dataset\n",
    "train_df = pd.read_csv(directory_path+train_file_name)\n",
    "val_df = pd.read_csv(directory_path+val_file_name)\n",
    "test_df = pd.read_csv(directory_path+test_file_name)"
   ]
  },
  {
   "cell_type": "code",
   "execution_count": 6,
   "metadata": {},
   "outputs": [
    {
     "name": "stdout",
     "output_type": "stream",
     "text": [
      "   Unnamed: 0                                               text  \\\n",
      "0           0  NON-DISCLOSURE AND CONFIDENTIALITY AGREEMENT\\n...   \n",
      "1           1  NON-DISCLOSURE AND CONFIDENTIALITY AGREEMENT\\n...   \n",
      "2           2  NON-DISCLOSURE AND CONFIDENTIALITY AGREEMENT\\n...   \n",
      "3           3  NON-DISCLOSURE AND CONFIDENTIALITY AGREEMENT\\n...   \n",
      "4           4  NON-DISCLOSURE AND CONFIDENTIALITY AGREEMENT\\n...   \n",
      "\n",
      "                                          hypothesis        labels  \n",
      "0  Receiving Party shall not reverse engineer any...  NotMentioned  \n",
      "1  Receiving Party shall destroy or return some C...    Entailment  \n",
      "2  Agreement shall not grant Receiving Party any ...    Entailment  \n",
      "3  Receiving Party shall not disclose the fact th...    Entailment  \n",
      "4  Confidential Information shall only include te...  NotMentioned  \n",
      "    Unnamed: 0                                               text  \\\n",
      "31          31  NON-DISCLOSURE AGREEMENT AND TERMS OF PARTICIP...   \n",
      "32          32  NON-DISCLOSURE AGREEMENT AND TERMS OF PARTICIP...   \n",
      "33          33  NON-DISCLOSURE AGREEMENT AND TERMS OF PARTICIP...   \n",
      "34          34  Mutual Non-Disclosure and Use of Information A...   \n",
      "35          35  Mutual Non-Disclosure and Use of Information A...   \n",
      "\n",
      "                                           hypothesis         labels  \n",
      "31  Receiving Party may acquire information simila...     Entailment  \n",
      "32  Receiving Party may share some Confidential In...  Contradiction  \n",
      "33  Receiving Party shall not use any Confidential...     Entailment  \n",
      "34  Receiving Party shall not reverse engineer any...   NotMentioned  \n",
      "35  Receiving Party shall destroy or return some C...     Entailment  \n"
     ]
    }
   ],
   "source": [
    "# 2. Display the first and last 5 rows of the training dataset\n",
    "print(train_df.head())\n",
    "print(train_df.tail())"
   ]
  },
  {
   "cell_type": "code",
   "execution_count": 7,
   "metadata": {},
   "outputs": [
    {
     "data": {
      "text/plain": [
       "(36, 4)"
      ]
     },
     "execution_count": 7,
     "metadata": {},
     "output_type": "execute_result"
    }
   ],
   "source": [
    "# 3. Display the dimension of the training data\n",
    "train_df.shape"
   ]
  },
  {
   "cell_type": "code",
   "execution_count": 8,
   "metadata": {},
   "outputs": [
    {
     "name": "stdout",
     "output_type": "stream",
     "text": [
      "<class 'pandas.core.frame.DataFrame'>\n",
      "RangeIndex: 36 entries, 0 to 35\n",
      "Data columns (total 4 columns):\n",
      " #   Column      Non-Null Count  Dtype \n",
      "---  ------      --------------  ----- \n",
      " 0   Unnamed: 0  36 non-null     int64 \n",
      " 1   text        36 non-null     object\n",
      " 2   hypothesis  36 non-null     object\n",
      " 3   labels      36 non-null     object\n",
      "dtypes: int64(1), object(3)\n",
      "memory usage: 1.2+ KB\n"
     ]
    }
   ],
   "source": [
    "# 4. Display a summary of the training DataFrame\n",
    "train_df.info()"
   ]
  },
  {
   "cell_type": "code",
   "execution_count": 26,
   "metadata": {},
   "outputs": [
    {
     "name": "stdout",
     "output_type": "stream",
     "text": [
      "        Unnamed: 0                                               text  \\\n",
      "count    36.000000                                                 36   \n",
      "unique         NaN                                                  3   \n",
      "top            NaN  NON-DISCLOSURE AND CONFIDENTIALITY AGREEMENT\\n...   \n",
      "freq           NaN                                                 17   \n",
      "mean     17.500000                                                NaN   \n",
      "std      10.535654                                                NaN   \n",
      "min       0.000000                                                NaN   \n",
      "25%       8.750000                                                NaN   \n",
      "50%      17.500000                                                NaN   \n",
      "75%      26.250000                                                NaN   \n",
      "max      35.000000                                                NaN   \n",
      "\n",
      "                                               hypothesis      labels  \n",
      "count                                                  36          36  \n",
      "unique                                                 17           3  \n",
      "top     Receiving Party shall not reverse engineer any...  Entailment  \n",
      "freq                                                    3          19  \n",
      "mean                                                  NaN         NaN  \n",
      "std                                                   NaN         NaN  \n",
      "min                                                   NaN         NaN  \n",
      "25%                                                   NaN         NaN  \n",
      "50%                                                   NaN         NaN  \n",
      "75%                                                   NaN         NaN  \n",
      "max                                                   NaN         NaN  \n",
      "        Unnamed: 0                                               text  \\\n",
      "count    11.000000                                                 11   \n",
      "unique         NaN                                                  1   \n",
      "top            NaN  OISAIR PROJECT\\nTWO-WAY CONFIDENTIALITY AND NO...   \n",
      "freq           NaN                                                 11   \n",
      "mean      5.000000                                                NaN   \n",
      "std       3.316625                                                NaN   \n",
      "min       0.000000                                                NaN   \n",
      "25%       2.500000                                                NaN   \n",
      "50%       5.000000                                                NaN   \n",
      "75%       7.500000                                                NaN   \n",
      "max      10.000000                                                NaN   \n",
      "\n",
      "                                               hypothesis      labels  \n",
      "count                                                  11          11  \n",
      "unique                                                 11           3  \n",
      "top     Receiving Party shall not reverse engineer any...  Entailment  \n",
      "freq                                                    1           9  \n",
      "mean                                                  NaN         NaN  \n",
      "std                                                   NaN         NaN  \n",
      "min                                                   NaN         NaN  \n",
      "25%                                                   NaN         NaN  \n",
      "50%                                                   NaN         NaN  \n",
      "75%                                                   NaN         NaN  \n",
      "max                                                   NaN         NaN  \n",
      "        Unnamed: 0                                               text  \\\n",
      "count     6.000000                                                  6   \n",
      "unique         NaN                                                  1   \n",
      "top            NaN  NON-DISCLOSURE AGREEMENT\\nRequired under JEA's...   \n",
      "freq           NaN                                                  6   \n",
      "mean      2.500000                                                NaN   \n",
      "std       1.870829                                                NaN   \n",
      "min       0.000000                                                NaN   \n",
      "25%       1.250000                                                NaN   \n",
      "50%       2.500000                                                NaN   \n",
      "75%       3.750000                                                NaN   \n",
      "max       5.000000                                                NaN   \n",
      "\n",
      "                                               hypothesis        labels  \n",
      "count                                                   6             6  \n",
      "unique                                                  6             3  \n",
      "top     Receiving Party shall not reverse engineer any...  NotMentioned  \n",
      "freq                                                    1             2  \n",
      "mean                                                  NaN           NaN  \n",
      "std                                                   NaN           NaN  \n",
      "min                                                   NaN           NaN  \n",
      "25%                                                   NaN           NaN  \n",
      "50%                                                   NaN           NaN  \n",
      "75%                                                   NaN           NaN  \n",
      "max                                                   NaN           NaN  \n"
     ]
    }
   ],
   "source": [
    "# 5. Print the statistical summary of the training, validation, and testing DataFrames\n",
    "print(train_df.describe(include = 'all'))\n",
    "print(val_df.describe(include = 'all'))\n",
    "print(test_df.describe(include = 'all'))"
   ]
  },
  {
   "cell_type": "markdown",
   "metadata": {},
   "source": [
    "##### Task 4: Create Visualization Function for Features"
   ]
  },
  {
   "cell_type": "code",
   "execution_count": 10,
   "metadata": {},
   "outputs": [],
   "source": [
    "# Write visualize_features() function\n",
    "def visualize_features(dataset, datatype, col_name, target):\n",
    "    doc_lengths = dataset[col_name].apply(len)\n",
    "    max_ = doc_lengths.max()\n",
    "    min_ = doc_lengths.min()\n",
    "    mean_ = doc_lengths.mean()\n",
    "    median_ = doc_lengths.median()\n",
    "\n",
    "    print(f\"Average document length for {datatype} : {mean_}\")\n",
    "    print(f\"Max {target} length for {datatype} : {max_}\")\n",
    "    print(f\"Min {target} length for {datatype} : {min_}\" )\n",
    "    print(f\"Median {target} length for {datatype} : {median_}\" )\n",
    "    plt.hist(doc_lengths, bins=50)\n",
    "    plt.title(f\"Distribution of {target} lengths for {datatype}\")\n",
    "\n",
    "    plt.xlabel(f\"{target} Length\" )\n",
    "    plt.ylabel(\"Count\")\n",
    "    plt.show()\n",
    "\n",
    "\n",
    "    "
   ]
  },
  {
   "cell_type": "code",
   "execution_count": 11,
   "metadata": {},
   "outputs": [
    {
     "name": "stdout",
     "output_type": "stream",
     "text": [
      "Average document length for training : 97.77777777777777\n",
      "Max hypothesis length for training : 162\n",
      "Min hypothesis length for training : 66\n",
      "Median hypothesis length for training : 92.5\n"
     ]
    },
    {
     "data": {
      "image/png": "[encoded data removed]",
      "text/plain": [
       "<Figure size 640x480 with 1 Axes>"
      ]
     },
     "metadata": {},
     "output_type": "display_data"
    },
    {
     "name": "stdout",
     "output_type": "stream",
     "text": [
      "Average document length for validation : 86.54545454545455\n",
      "Max hypothesis length for validation : 122\n",
      "Min hypothesis length for validation : 66\n",
      "Median hypothesis length for validation : 83.0\n"
     ]
    },
    {
     "data": {
      "image/png": "[encoded data removed]",
      "text/plain": [
       "<Figure size 640x480 with 1 Axes>"
      ]
     },
     "metadata": {},
     "output_type": "display_data"
    },
    {
     "name": "stdout",
     "output_type": "stream",
     "text": [
      "Average document length for testing : 88.16666666666667\n",
      "Max hypothesis length for testing : 112\n",
      "Min hypothesis length for testing : 66\n",
      "Median hypothesis length for testing : 83.5\n"
     ]
    },
    {
     "data": {
      "image/png": "[encoded data removed]",
      "text/plain": [
       "<Figure size 640x480 with 1 Axes>"
      ]
     },
     "metadata": {},
     "output_type": "display_data"
    }
   ],
   "source": [
    "visualize_features(train_df, \"training\", \"hypothesis\", \"hypothesis\")\n",
    "visualize_features(val_df, \"validation\", \"hypothesis\", \"hypothesis\")\n",
    "visualize_features(test_df, \"testing\", \"hypothesis\", \"hypothesis\")"
   ]
  },
  {
   "cell_type": "markdown",
   "metadata": {},
   "source": [
    "##### Task 5: Create Visualizations Function for Labels"
   ]
  },
  {
   "cell_type": "code",
   "execution_count": 12,
   "metadata": {},
   "outputs": [],
   "source": [
    "# Write visualize_label() function\n",
    "\n",
    "def visualize_label(dataset, datatype):\n",
    "    print(f\"The type of dataset: {datatype}\")\n",
    "    label_counts = dataset['labels'].value_counts()\n",
    "    print(f\"The count of each type of values: \\n {label_counts}\")\n",
    "\n",
    "    plt.bar(label_counts.index,label_counts)\n",
    "    plt.show()\n"
   ]
  },
  {
   "cell_type": "code",
   "execution_count": 13,
   "metadata": {},
   "outputs": [
    {
     "name": "stdout",
     "output_type": "stream",
     "text": [
      "The type of dataset: Training data\n",
      "The count of each type of values: \n",
      " labels\n",
      "Entailment       19\n",
      "NotMentioned     13\n",
      "Contradiction     4\n",
      "Name: count, dtype: int64\n"
     ]
    },
    {
     "data": {
      "image/png": "[encoded data removed]",
      "text/plain": [
       "<Figure size 640x480 with 1 Axes>"
      ]
     },
     "metadata": {},
     "output_type": "display_data"
    },
    {
     "name": "stdout",
     "output_type": "stream",
     "text": [
      "The type of dataset: Validation data\n",
      "The count of each type of values: \n",
      " labels\n",
      "Entailment       9\n",
      "Contradiction    1\n",
      "NotMentioned     1\n",
      "Name: count, dtype: int64\n"
     ]
    },
    {
     "data": {
      "image/png": "[encoded data removed]",
      "text/plain": [
       "<Figure size 640x480 with 1 Axes>"
      ]
     },
     "metadata": {},
     "output_type": "display_data"
    },
    {
     "name": "stdout",
     "output_type": "stream",
     "text": [
      "The type of dataset: Testing data\n",
      "The count of each type of values: \n",
      " labels\n",
      "NotMentioned     2\n",
      "Entailment       2\n",
      "Contradiction    2\n",
      "Name: count, dtype: int64\n"
     ]
    },
    {
     "data": {
      "image/png": "[encoded data removed]",
      "text/plain": [
       "<Figure size 640x480 with 1 Axes>"
      ]
     },
     "metadata": {},
     "output_type": "display_data"
    }
   ],
   "source": [
    "# Call visualize_label() function for training, validation and testing.\n",
    "visualize_label(train_df, \"Training data\")\n",
    "visualize_label(val_df, \"Validation data\")\n",
    "visualize_label(test_df, \"Testing data\")"
   ]
  },
  {
   "cell_type": "markdown",
   "metadata": {},
   "source": [
    "##### Task 6: Load the Tokenizer and Model"
   ]
  },
  {
   "cell_type": "code",
   "execution_count": 14,
   "metadata": {},
   "outputs": [
    {
     "data": {
      "application/vnd.jupyter.widget-view+json": {
       "model_id": "2c1b4fb4d86b4455a64485701f4b0e75",
       "version_major": 2,
       "version_minor": 0
      },
      "text/plain": [
       "tokenizer_config.json:   0%|          | 0.00/25.0 [00:00<?, ?B/s]"
      ]
     },
     "metadata": {},
     "output_type": "display_data"
    },
    {
     "data": {
      "application/vnd.jupyter.widget-view+json": {
       "model_id": "c0beec2ea60849dcae501f6558e75634",
       "version_major": 2,
       "version_minor": 0
      },
      "text/plain": [
       "config.json:   0%|          | 0.00/684 [00:00<?, ?B/s]"
      ]
     },
     "metadata": {},
     "output_type": "display_data"
    },
    {
     "data": {
      "application/vnd.jupyter.widget-view+json": {
       "model_id": "b4f321a2763c4df49265b3ff4ce27ae6",
       "version_major": 2,
       "version_minor": 0
      },
      "text/plain": [
       "spiece.model:   0%|          | 0.00/760k [00:00<?, ?B/s]"
      ]
     },
     "metadata": {},
     "output_type": "display_data"
    },
    {
     "data": {
      "application/vnd.jupyter.widget-view+json": {
       "model_id": "60155c442ec0447c9fb0e91dede916de",
       "version_major": 2,
       "version_minor": 0
      },
      "text/plain": [
       "tokenizer.json:   0%|          | 0.00/1.31M [00:00<?, ?B/s]"
      ]
     },
     "metadata": {},
     "output_type": "display_data"
    },
    {
     "data": {
      "application/vnd.jupyter.widget-view+json": {
       "model_id": "c7c00300597e40c994d8fc206ad55f61",
       "version_major": 2,
       "version_minor": 0
      },
      "text/plain": [
       "model.safetensors:   0%|          | 0.00/47.4M [00:00<?, ?B/s]"
      ]
     },
     "metadata": {},
     "output_type": "display_data"
    },
    {
     "name": "stderr",
     "output_type": "stream",
     "text": [
      "Some weights of AlbertForSequenceClassification were not initialized from the model checkpoint at albert-base-v2 and are newly initialized: ['classifier.bias', 'classifier.weight']\n",
      "You should probably TRAIN this model on a down-stream task to be able to use it for predictions and inference.\n"
     ]
    }
   ],
   "source": [
    "# ALBERT tokenizer and model\n",
    "albert_model_name = \"albert-base-v2\"\n",
    "albert_tokenizer = AutoTokenizer.from_pretrained(albert_model_name)\n",
    "\n",
    "albert_classifier_model = AutoModelForSequenceClassification.from_pretrained(albert_model_name, num_labels = 3)\n"
   ]
  },
  {
   "cell_type": "code",
   "execution_count": 15,
   "metadata": {},
   "outputs": [
    {
     "data": {
      "application/vnd.jupyter.widget-view+json": {
       "model_id": "749f6bac23c44bf2be397bd5df1d5d5a",
       "version_major": 2,
       "version_minor": 0
      },
      "text/plain": [
       "tokenizer_config.json:   0%|          | 0.00/48.0 [00:00<?, ?B/s]"
      ]
     },
     "metadata": {},
     "output_type": "display_data"
    },
    {
     "data": {
      "application/vnd.jupyter.widget-view+json": {
       "model_id": "5cec41c48e964dc3a4ffa361c3c193ac",
       "version_major": 2,
       "version_minor": 0
      },
      "text/plain": [
       "config.json:   0%|          | 0.00/483 [00:00<?, ?B/s]"
      ]
     },
     "metadata": {},
     "output_type": "display_data"
    },
    {
     "data": {
      "application/vnd.jupyter.widget-view+json": {
       "model_id": "516a46799e8c4cf8bbed9447efd57ed5",
       "version_major": 2,
       "version_minor": 0
      },
      "text/plain": [
       "vocab.txt:   0%|          | 0.00/232k [00:00<?, ?B/s]"
      ]
     },
     "metadata": {},
     "output_type": "display_data"
    },
    {
     "data": {
      "application/vnd.jupyter.widget-view+json": {
       "model_id": "41aae3f813234477a8b92334d9a401d6",
       "version_major": 2,
       "version_minor": 0
      },
      "text/plain": [
       "tokenizer.json:   0%|          | 0.00/466k [00:00<?, ?B/s]"
      ]
     },
     "metadata": {},
     "output_type": "display_data"
    },
    {
     "data": {
      "application/vnd.jupyter.widget-view+json": {
       "model_id": "c676362925ae429d9ffd758bbd076a5b",
       "version_major": 2,
       "version_minor": 0
      },
      "text/plain": [
       "model.safetensors:   0%|          | 0.00/268M [00:00<?, ?B/s]"
      ]
     },
     "metadata": {},
     "output_type": "display_data"
    },
    {
     "name": "stderr",
     "output_type": "stream",
     "text": [
      "Some weights of DistilBertForSequenceClassification were not initialized from the model checkpoint at distilbert-base-uncased and are newly initialized: ['pre_classifier.weight', 'classifier.bias', 'pre_classifier.bias', 'classifier.weight']\n",
      "You should probably TRAIN this model on a down-stream task to be able to use it for predictions and inference.\n"
     ]
    }
   ],
   "source": [
    "# DistilBERT tokenizer and model\n",
    "distilbert_model_name = \"distilbert-base-uncased\"\n",
    "distilbert_tokenizer = AutoTokenizer.from_pretrained(distilbert_model_name)\n",
    "\n",
    "distilbert_classifier_model = AutoModelForSequenceClassification.from_pretrained(distilbert_model_name, num_labels = 3)\n"
   ]
  },
  {
   "cell_type": "markdown",
   "metadata": {},
   "source": [
    "##### Task 7: Encode the Features"
   ]
  },
  {
   "cell_type": "code",
   "execution_count": 16,
   "metadata": {},
   "outputs": [],
   "source": [
    "# Write tokenize_data() function\n",
    "def tokenize_data(dataset, model_name):\n",
    "    max_length = 256\n",
    "    if model_name == \"ALBERT\":\n",
    "        return albert_tokenizer(text = dataset['text'].tolist(), text_pair = dataset['hypothesis'].tolist(), padding = \"max_length\", max_length = 256, truncation= True)\n",
    "    if model_name == \"DistilBERT\":\n",
    "        return distilbert_tokenizer(text = dataset['text'].tolist(), text_pair = dataset['hypothesis'].tolist(), padding = \"max_length\", max_length = 256, truncation= True)"
   ]
  },
  {
   "cell_type": "code",
   "execution_count": 17,
   "metadata": {},
   "outputs": [],
   "source": [
    "# Call tokenize_data() function for training, validation and testing.\n",
    "## ALBERT model\n",
    "albert_train_encodings = tokenize_data(train_df, \"ALBERT\")\n",
    "albert_valid_encodings  = tokenize_data(val_df, \"ALBERT\")\n",
    "albert_test_encodings  = tokenize_data(test_df, \"ALBERT\")\n",
    "\n",
    "## DistilBERT model\n",
    "\n",
    "distilbert_train_encodings  = tokenize_data(train_df, \"DistilBERT\")\n",
    "distilbert_valid_encodings = tokenize_data(val_df, \"DistilBERT\")\n",
    "distilbert_test_encodings = tokenize_data(test_df, \"DistilBERT\")\n"
   ]
  },
  {
   "cell_type": "markdown",
   "metadata": {},
   "source": [
    "##### Task 8: Encode the Label"
   ]
  },
  {
   "cell_type": "code",
   "execution_count": 18,
   "metadata": {},
   "outputs": [],
   "source": [
    "label_mapping = {\"NotMentioned\" : 0, \"Entailment\": 1, \"Contradiction\" : 2}\n",
    "\n",
    "train_labels = train_df['labels'].replace(label_mapping).tolist()\n",
    "val_labels = val_df['labels'].replace(label_mapping).tolist()\n",
    "test_labels = test_df['labels'].replace(label_mapping).tolist()\n"
   ]
  },
  {
   "cell_type": "markdown",
   "metadata": {},
   "source": [
    "##### Task 9: Prepare Dataset for the Model"
   ]
  },
  {
   "cell_type": "code",
   "execution_count": 19,
   "metadata": {},
   "outputs": [],
   "source": [
    "# Write ContractNLIDataset() class. \n",
    "class ContractNLIDataset(torch.utils.data.Dataset):\n",
    "    def __init__(self, encodings, labels):\n",
    "        self.encodings = encodings\n",
    "        self.labels = labels\n",
    "\n",
    "    def __getitem__(self, idx):\n",
    "        item = {key: torch.tensor(value[idx]) for key, value in self.encodings.items()}\n",
    "        item['labels'] = torch.tensor(int(self.labels[idx]))\n",
    "\n",
    "        return item\n",
    "\n",
    "    def __len__(self):\n",
    "        return len(self.labels)\n",
    "\n"
   ]
  },
  {
   "cell_type": "code",
   "execution_count": 20,
   "metadata": {},
   "outputs": [],
   "source": [
    "# Create the objects from ContractNLIDataset() class for training, validation and testing.\n",
    "## ALBERT model\n",
    "albert_train_datset = ContractNLIDataset(albert_train_encodings, train_labels)\n",
    "albert_valid_datset = ContractNLIDataset(albert_valid_encodings, val_labels)\n",
    "albert_test_datset = ContractNLIDataset(albert_test_encodings, test_labels)\n",
    "\n",
    "## DistilBERT model\n",
    "distillbert_train_datset = ContractNLIDataset(distilbert_train_encodings, train_labels)\n",
    "distilbert_valid_datset = ContractNLIDataset(distilbert_valid_encodings, val_labels)\n",
    "distillbert_test_datset = ContractNLIDataset(distilbert_test_encodings, test_labels)"
   ]
  },
  {
   "cell_type": "markdown",
   "metadata": {},
   "source": [
    "##### Task 10: Fine-Tune the Selected Models"
   ]
  },
  {
   "cell_type": "code",
   "execution_count": 21,
   "metadata": {},
   "outputs": [],
   "source": [
    "# Write compute_metrics() function. \n",
    "def compute_metrics(p):\n",
    "    preds = np.argmax(p.predictions, axis = 1)\n",
    "    labels = p.label_ids\n",
    "\n",
    "    accuracy = accuracy_score(labels,preds)\n",
    "    precision = precision_score(labels,preds, average='macro')\n",
    "    recall = recall_score(labels,preds,average='macro')\n",
    "    f1 = f1_score(labels, preds,average='macro')\n",
    "\n",
    "    return {\"accuracy\" : accuracy, \"precision\" : precision, \"recall\" : recall, \"f1\" : f1 }\n",
    "\n",
    "\n",
    "\n",
    "    \n"
   ]
  },
  {
   "cell_type": "code",
   "execution_count": 22,
   "metadata": {},
   "outputs": [],
   "source": [
    "# configure the training setting\n",
    "\n",
    "training_args = TrainingArguments(\n",
    "    output_dir = directory_path + \"results\",\n",
    "    num_train_epochs = 3,\n",
    "    weight_decay = 0.001,\n",
    "    logging_steps = 1,\n",
    "    evaluation_strategy = \"epoch\",\n",
    ")"
   ]
  },
  {
   "cell_type": "code",
   "execution_count": 23,
   "metadata": {},
   "outputs": [],
   "source": [
    "# Write train_fn() function\n",
    "\n",
    "def train_fn(model, train_dataset, eval_dataset, tokenizer):\n",
    "    trainer = Trainer(model = model, args=training_args, train_dataset=train_dataset, eval_dataset=eval_dataset, tokenizer = tokenizer, compute_metrics=compute_metrics)\n",
    "    trainer.train()\n",
    "    return trainer"
   ]
  },
  {
   "cell_type": "code",
   "execution_count": 24,
   "metadata": {},
   "outputs": [
    {
     "name": "stderr",
     "output_type": "stream",
     "text": [
      "You're using a AlbertTokenizerFast tokenizer. Please note that with a fast tokenizer, using the `__call__` method is faster than using a method to encode the text followed by a call to the `pad` method to get a padded encoding.\n"
     ]
    },
    {
     "data": {
      "text/html": [
       "\n",
       "    <div>\n",
       "      \n",
       "      <progress value='15' max='15' style='width:300px; height:20px; vertical-align: middle;'></progress>\n",
       "      [15/15 04:15, Epoch 3/3]\n",
       "    </div>\n",
       "    <table border=\"1\" class=\"dataframe\">\n",
       "  <thead>\n",
       " <tr style=\"text-align: left;\">\n",
       "      <th>Epoch</th>\n",
       "      <th>Training Loss</th>\n",
       "      <th>Validation Loss</th>\n",
       "      <th>Accuracy</th>\n",
       "      <th>Precision</th>\n",
       "      <th>Recall</th>\n",
       "      <th>F1</th>\n",
       "    </tr>\n",
       "  </thead>\n",
       "  <tbody>\n",
       "    <tr>\n",
       "      <td>1</td>\n",
       "      <td>0.847500</td>\n",
       "      <td>0.811747</td>\n",
       "      <td>0.818182</td>\n",
       "      <td>0.272727</td>\n",
       "      <td>0.333333</td>\n",
       "      <td>0.300000</td>\n",
       "    </tr>\n",
       "    <tr>\n",
       "      <td>2</td>\n",
       "      <td>0.851800</td>\n",
       "      <td>0.730987</td>\n",
       "      <td>0.818182</td>\n",
       "      <td>0.272727</td>\n",
       "      <td>0.333333</td>\n",
       "      <td>0.300000</td>\n",
       "    </tr>\n",
       "    <tr>\n",
       "      <td>3</td>\n",
       "      <td>0.935400</td>\n",
       "      <td>0.768808</td>\n",
       "      <td>0.818182</td>\n",
       "      <td>0.272727</td>\n",
       "      <td>0.333333</td>\n",
       "      <td>0.300000</td>\n",
       "    </tr>\n",
       "  </tbody>\n",
       "</table><p>"
      ],
      "text/plain": [
       "<IPython.core.display.HTML object>"
      ]
     },
     "metadata": {},
     "output_type": "display_data"
    },
    {
     "name": "stderr",
     "output_type": "stream",
     "text": [
      "/usr/local/lib/python3.8/dist-packages/sklearn/metrics/_classification.py:1471: UndefinedMetricWarning: Precision is ill-defined and being set to 0.0 in labels with no predicted samples. Use `zero_division` parameter to control this behavior.\n",
      "  _warn_prf(average, modifier, msg_start, len(result))\n",
      "/usr/local/lib/python3.8/dist-packages/sklearn/metrics/_classification.py:1471: UndefinedMetricWarning: Precision is ill-defined and being set to 0.0 in labels with no predicted samples. Use `zero_division` parameter to control this behavior.\n",
      "  _warn_prf(average, modifier, msg_start, len(result))\n",
      "/usr/local/lib/python3.8/dist-packages/sklearn/metrics/_classification.py:1471: UndefinedMetricWarning: Precision is ill-defined and being set to 0.0 in labels with no predicted samples. Use `zero_division` parameter to control this behavior.\n",
      "  _warn_prf(average, modifier, msg_start, len(result))\n",
      "You're using a DistilBertTokenizerFast tokenizer. Please note that with a fast tokenizer, using the `__call__` method is faster than using a method to encode the text followed by a call to the `pad` method to get a padded encoding.\n"
     ]
    },
    {
     "data": {
      "text/html": [
       "\n",
       "    <div>\n",
       "      \n",
       "      <progress value='15' max='15' style='width:300px; height:20px; vertical-align: middle;'></progress>\n",
       "      [15/15 02:06, Epoch 3/3]\n",
       "    </div>\n",
       "    <table border=\"1\" class=\"dataframe\">\n",
       "  <thead>\n",
       " <tr style=\"text-align: left;\">\n",
       "      <th>Epoch</th>\n",
       "      <th>Training Loss</th>\n",
       "      <th>Validation Loss</th>\n",
       "      <th>Accuracy</th>\n",
       "      <th>Precision</th>\n",
       "      <th>Recall</th>\n",
       "      <th>F1</th>\n",
       "    </tr>\n",
       "  </thead>\n",
       "  <tbody>\n",
       "    <tr>\n",
       "      <td>1</td>\n",
       "      <td>0.902200</td>\n",
       "      <td>0.943023</td>\n",
       "      <td>0.818182</td>\n",
       "      <td>0.272727</td>\n",
       "      <td>0.333333</td>\n",
       "      <td>0.300000</td>\n",
       "    </tr>\n",
       "    <tr>\n",
       "      <td>2</td>\n",
       "      <td>0.969100</td>\n",
       "      <td>0.816137</td>\n",
       "      <td>0.818182</td>\n",
       "      <td>0.272727</td>\n",
       "      <td>0.333333</td>\n",
       "      <td>0.300000</td>\n",
       "    </tr>\n",
       "    <tr>\n",
       "      <td>3</td>\n",
       "      <td>1.006500</td>\n",
       "      <td>0.801897</td>\n",
       "      <td>0.818182</td>\n",
       "      <td>0.272727</td>\n",
       "      <td>0.333333</td>\n",
       "      <td>0.300000</td>\n",
       "    </tr>\n",
       "  </tbody>\n",
       "</table><p>"
      ],
      "text/plain": [
       "<IPython.core.display.HTML object>"
      ]
     },
     "metadata": {},
     "output_type": "display_data"
    },
    {
     "name": "stderr",
     "output_type": "stream",
     "text": [
      "/usr/local/lib/python3.8/dist-packages/sklearn/metrics/_classification.py:1471: UndefinedMetricWarning: Precision is ill-defined and being set to 0.0 in labels with no predicted samples. Use `zero_division` parameter to control this behavior.\n",
      "  _warn_prf(average, modifier, msg_start, len(result))\n",
      "/usr/local/lib/python3.8/dist-packages/sklearn/metrics/_classification.py:1471: UndefinedMetricWarning: Precision is ill-defined and being set to 0.0 in labels with no predicted samples. Use `zero_division` parameter to control this behavior.\n",
      "  _warn_prf(average, modifier, msg_start, len(result))\n",
      "/usr/local/lib/python3.8/dist-packages/sklearn/metrics/_classification.py:1471: UndefinedMetricWarning: Precision is ill-defined and being set to 0.0 in labels with no predicted samples. Use `zero_division` parameter to control this behavior.\n",
      "  _warn_prf(average, modifier, msg_start, len(result))\n"
     ]
    }
   ],
   "source": [
    "# Call train_fn() function\n",
    "## ALBERT model\n",
    "albert_trainer = train_fn(albert_classifier_model, albert_train_datset, albert_valid_datset, albert_tokenizer)\n",
    "## DistilBERT model\n",
    "distilbert_trainer = train_fn(distilbert_classifier_model, distillbert_train_datset, distilbert_valid_datset, distilbert_tokenizer)"
   ]
  },
  {
   "cell_type": "markdown",
   "metadata": {},
   "source": [
    "##### Task 11: Test the Selected Models"
   ]
  },
  {
   "cell_type": "code",
   "execution_count": 33,
   "metadata": {},
   "outputs": [],
   "source": [
    "# Write predict_and_save_results() function\n",
    "def predict_and_save_results(trainer, model, model_name, test_dataset):\n",
    "    prediction_output = trainer.predict(test_dataset)\n",
    "    test_df[f\"pred_from_{model_name}\"] = np.argmax(prediction_output[0], axis=1)\n",
    "    \n"
   ]
  },
  {
   "cell_type": "code",
   "execution_count": 34,
   "metadata": {},
   "outputs": [
    {
     "data": {
      "text/html": [],
      "text/plain": [
       "<IPython.core.display.HTML object>"
      ]
     },
     "metadata": {},
     "output_type": "display_data"
    },
    {
     "name": "stderr",
     "output_type": "stream",
     "text": [
      "/usr/local/lib/python3.8/dist-packages/sklearn/metrics/_classification.py:1471: UndefinedMetricWarning: Precision is ill-defined and being set to 0.0 in labels with no predicted samples. Use `zero_division` parameter to control this behavior.\n",
      "  _warn_prf(average, modifier, msg_start, len(result))\n"
     ]
    }
   ],
   "source": [
    "# Call predict_and_save_results() function.\n",
    "## ALBERT model\n",
    "predict_and_save_results(albert_trainer, albert_classifier_model, albert_model_name, albert_test_datset)\n",
    "\n"
   ]
  },
  {
   "cell_type": "code",
   "execution_count": 36,
   "metadata": {},
   "outputs": [
    {
     "data": {
      "text/html": [],
      "text/plain": [
       "<IPython.core.display.HTML object>"
      ]
     },
     "metadata": {},
     "output_type": "display_data"
    },
    {
     "name": "stderr",
     "output_type": "stream",
     "text": [
      "/usr/local/lib/python3.8/dist-packages/sklearn/metrics/_classification.py:1471: UndefinedMetricWarning: Precision is ill-defined and being set to 0.0 in labels with no predicted samples. Use `zero_division` parameter to control this behavior.\n",
      "  _warn_prf(average, modifier, msg_start, len(result))\n"
     ]
    }
   ],
   "source": [
    "## DistilBERT model\n",
    "predict_and_save_results(distilbert_trainer, distilbert_classifier_model, distilbert_model_name, distillbert_test_datset)"
   ]
  },
  {
   "cell_type": "markdown",
   "metadata": {},
   "source": [
    "##### Task 12: Identify Incorrect Predictions"
   ]
  },
  {
   "cell_type": "code",
   "execution_count": 37,
   "metadata": {},
   "outputs": [
    {
     "name": "stdout",
     "output_type": "stream",
     "text": [
      "0    False\n",
      "1     True\n",
      "2     True\n",
      "3    False\n",
      "4    False\n",
      "5    False\n",
      "Name: pred_from_albert-base-v2, dtype: bool\n",
      "0    False\n",
      "1     True\n",
      "2     True\n",
      "3    False\n",
      "4    False\n",
      "5    False\n",
      "Name: pred_from_distilbert-base-uncased, dtype: bool\n"
     ]
    }
   ],
   "source": [
    "## ALBERT model\n",
    "albert_col_name = f\"pred_from_{albert_model_name}\"\n",
    "print(test_df[albert_col_name] == test_labels)\n",
    "\n",
    "\n",
    "## DistilBERT model\n",
    "distilbert_col_name = f\"pred_from_{distilbert_model_name}\"\n",
    "print(test_df[distilbert_col_name] == test_labels)"
   ]
  },
  {
   "cell_type": "markdown",
   "metadata": {},
   "source": [
    "##### Task 13: Categorize the Errors"
   ]
  },
  {
   "cell_type": "code",
   "execution_count": 50,
   "metadata": {},
   "outputs": [],
   "source": [
    "## ALBERT model\n",
    "albert_errors = test_df[test_df[albert_col_name] != test_labels].iloc[:,1:4]\n",
    "\n",
    "## DistilBERT model\n",
    "distilbert_errors = test_df[test_df[distilbert_col_name] != test_labels].iloc[:,1:4]"
   ]
  },
  {
   "cell_type": "code",
   "execution_count": 52,
   "metadata": {},
   "outputs": [
    {
     "name": "stdout",
     "output_type": "stream",
     "text": [
      "                                                text  \\\n",
      "0  NON-DISCLOSURE AGREEMENT\\nRequired under JEA's...   \n",
      "3  NON-DISCLOSURE AGREEMENT\\nRequired under JEA's...   \n",
      "4  NON-DISCLOSURE AGREEMENT\\nRequired under JEA's...   \n",
      "5  NON-DISCLOSURE AGREEMENT\\nRequired under JEA's...   \n",
      "\n",
      "                                          hypothesis         labels  \n",
      "0  Receiving Party shall not reverse engineer any...   NotMentioned  \n",
      "3  Receiving Party shall not disclose the fact th...   NotMentioned  \n",
      "4  Confidential Information shall only include te...  Contradiction  \n",
      "5  All Confidential Information shall be expressl...  Contradiction  \n",
      "                                                text  \\\n",
      "0  NON-DISCLOSURE AGREEMENT\\nRequired under JEA's...   \n",
      "3  NON-DISCLOSURE AGREEMENT\\nRequired under JEA's...   \n",
      "4  NON-DISCLOSURE AGREEMENT\\nRequired under JEA's...   \n",
      "5  NON-DISCLOSURE AGREEMENT\\nRequired under JEA's...   \n",
      "\n",
      "                                          hypothesis         labels  \n",
      "0  Receiving Party shall not reverse engineer any...   NotMentioned  \n",
      "3  Receiving Party shall not disclose the fact th...   NotMentioned  \n",
      "4  Confidential Information shall only include te...  Contradiction  \n",
      "5  All Confidential Information shall be expressl...  Contradiction  \n"
     ]
    }
   ],
   "source": [
    "print(albert_errors)\n",
    "print(distilbert_errors)"
   ]
  },
  {
   "cell_type": "markdown",
   "metadata": {},
   "source": [
    "##### Task 14: Visualize Error Categories"
   ]
  },
  {
   "cell_type": "code",
   "execution_count": 53,
   "metadata": {},
   "outputs": [
    {
     "name": "stdout",
     "output_type": "stream",
     "text": [
      "The type of dataset: testing\n",
      "The count of each type of values: \n",
      " labels\n",
      "NotMentioned     2\n",
      "Contradiction    2\n",
      "Name: count, dtype: int64\n"
     ]
    },
    {
     "data": {
      "image/png": "[encoded data removed]",
      "text/plain": [
       "<Figure size 640x480 with 1 Axes>"
      ]
     },
     "metadata": {},
     "output_type": "display_data"
    },
    {
     "name": "stdout",
     "output_type": "stream",
     "text": [
      "Average document length for testing : 16632.0\n",
      "Max text length for testing : 16632\n",
      "Min text length for testing : 16632\n",
      "Median text length for testing : 16632.0\n"
     ]
    },
    {
     "data": {
      "image/png": "[encoded data removed]",
      "text/plain": [
       "<Figure size 640x480 with 1 Axes>"
      ]
     },
     "metadata": {},
     "output_type": "display_data"
    },
    {
     "name": "stdout",
     "output_type": "stream",
     "text": [
      "Average document length for testing : 86.25\n",
      "Max hypothesis length for testing : 112\n",
      "Min hypothesis length for testing : 66\n",
      "Median hypothesis length for testing : 83.5\n"
     ]
    },
    {
     "data": {
      "image/png": "[encoded data removed]",
      "text/plain": [
       "<Figure size 640x480 with 1 Axes>"
      ]
     },
     "metadata": {},
     "output_type": "display_data"
    }
   ],
   "source": [
    "## ALBERT model\n",
    "visualize_label(albert_errors, \"testing\")\n",
    "visualize_features(albert_errors, \"testing\", \"text\", \"text\")\n",
    "visualize_features(albert_errors, \"testing\", \"hypothesis\", \"hypothesis\")\n"
   ]
  },
  {
   "cell_type": "code",
   "execution_count": 54,
   "metadata": {},
   "outputs": [
    {
     "name": "stdout",
     "output_type": "stream",
     "text": [
      "The type of dataset: testing\n",
      "The count of each type of values: \n",
      " labels\n",
      "NotMentioned     2\n",
      "Contradiction    2\n",
      "Name: count, dtype: int64\n"
     ]
    },
    {
     "data": {
      "image/png": "[encoded data removed]",
      "text/plain": [
       "<Figure size 640x480 with 1 Axes>"
      ]
     },
     "metadata": {},
     "output_type": "display_data"
    },
    {
     "name": "stdout",
     "output_type": "stream",
     "text": [
      "Average document length for testing : 16632.0\n",
      "Max text length for testing : 16632\n",
      "Min text length for testing : 16632\n",
      "Median text length for testing : 16632.0\n"
     ]
    },
    {
     "data": {
      "image/png": "[encoded data removed]",
      "text/plain": [
       "<Figure size 640x480 with 1 Axes>"
      ]
     },
     "metadata": {},
     "output_type": "display_data"
    },
    {
     "name": "stdout",
     "output_type": "stream",
     "text": [
      "Average document length for testing : 86.25\n",
      "Max hypothesis length for testing : 112\n",
      "Min hypothesis length for testing : 66\n",
      "Median hypothesis length for testing : 83.5\n"
     ]
    },
    {
     "data": {
      "image/png": "[encoded data removed]",
      "text/plain": [
       "<Figure size 640x480 with 1 Axes>"
      ]
     },
     "metadata": {},
     "output_type": "display_data"
    }
   ],
   "source": [
    "## DistilBERT model\n",
    "## ALBERT model\n",
    "visualize_label(distilbert_errors, \"testing\")\n",
    "visualize_features(distilbert_errors, \"testing\", \"text\", \"text\")\n",
    "visualize_features(distilbert_errors, \"testing\", \"hypothesis\", \"hypothesis\")\n"
   ]
  }
 ],
 "metadata": {
  "kernelspec": {
   "display_name": "Python 3",
   "language": "python",
   "name": "python3"
  },
  "language_info": {
   "codemirror_mode": {
    "name": "ipython",
    "version": 3
   },
   "file_extension": ".py",
   "mimetype": "text/x-python",
   "name": "python",
   "nbconvert_exporter": "python",
   "pygments_lexer": "ipython3",
   "version": "3.8.10"
  },
  "orig_nbformat": 4,
  "vscode": {
   "interpreter": {
    "hash": "e7370f93d1d0cde622a1f8e1c04877d8463912d04d973331ad4851f04de6915a"
   }
  }
 },
 "nbformat": 4,
 "nbformat_minor": 2
}
